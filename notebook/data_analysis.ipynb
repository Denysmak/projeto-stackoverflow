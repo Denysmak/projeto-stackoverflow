{
 "cells": [
  {
   "cell_type": "markdown",
   "id": "6a76b81c",
   "metadata": {},
   "source": [
    "### 📚 Importação de Bibliotecas | Library Imports"
   ]
  },
  {
   "cell_type": "code",
   "execution_count": 39,
   "id": "c2347d06",
   "metadata": {},
   "outputs": [],
   "source": [
    "from google.cloud import bigquery\n",
    "from google.oauth2 import service_account\n",
    "import pandas as pd\n",
    "import matplotlib.pyplot as plt\n",
    "import seaborn as sns\n",
    "from dotenv import load_dotenv\n",
    "import os"
   ]
  },
  {
   "cell_type": "markdown",
   "id": "f11359ec",
   "metadata": {},
   "source": [
    "### Leitura do SQL | SQL reading"
   ]
  },
  {
   "cell_type": "code",
   "execution_count": 40,
   "id": "83b27192",
   "metadata": {},
   "outputs": [],
   "source": [
    "with open('../sql/data_extraction.sql', 'r') as f:\n",
    "    sql_query = f.read()"
   ]
  },
  {
   "cell_type": "markdown",
   "id": "74d8ad75",
   "metadata": {},
   "source": [
    "#### Usa variável de ambiente para deixar a aplicação mais segura | Use environment variables to make the application more secure"
   ]
  },
  {
   "cell_type": "code",
   "execution_count": 41,
   "id": "af6945d0",
   "metadata": {},
   "outputs": [],
   "source": [
    "\n",
    "load_dotenv()\n",
    "\n",
    "# Usa a variável de ambiente\n",
    "key_path = os.getenv(\"GOOGLE_APPLICATION_CREDENTIALS\")\n"
   ]
  },
  {
   "cell_type": "markdown",
   "id": "d203df52",
   "metadata": {},
   "source": [
    "#### Credencial para conectar com api do google big query | Google big query api credentials"
   ]
  },
  {
   "cell_type": "code",
   "execution_count": 42,
   "id": "fb3bfb64",
   "metadata": {},
   "outputs": [],
   "source": [
    "credentials = service_account.Credentials.from_service_account_file(filename=key_path, scopes=['https://www.googleapis.com/auth/cloud-platform'])"
   ]
  },
  {
   "cell_type": "markdown",
   "id": "46a36321",
   "metadata": {},
   "source": [
    "#### Lista com as principais linguagens de programação que existem (para comparação) | List of the main programming languages that exist (for comparison)"
   ]
  },
  {
   "cell_type": "code",
   "execution_count": 43,
   "id": "0a87b4ca",
   "metadata": {},
   "outputs": [],
   "source": [
    "top_languages = [\n",
    "    \"python\", \"java\", \"javascript\", \"c#\", \"c++\", \"c\", \"typescript\", \"php\", \"go\", \"rust\",\n",
    "    \"kotlin\", \"ruby\", \"swift\", \"scala\", \"dart\", \"objective-c\", \"perl\", \"r\", \"matlab\", \"lua\",\n",
    "    \"haskell\", \"elixir\", \"clojure\", \"f#\", \"assembly\", \"vb.net\", \"powershell\", \"bash\", \"groovy\", \"julia\",\n",
    "    \"scheme\", \"erlang\", \"fortran\", \"cobol\", \"prolog\", \"ada\", \"delphi\", \"scratch\", \"solidity\", \"vhdl\",\n",
    "    \"nim\", \"crystal\", \"abap\", \"sas\", \"verilog\", \"ocaml\", \"smalltalk\", \"pascal\", \"actionscript\", \"lisp\"\n",
    "]\n"
   ]
  },
  {
   "cell_type": "markdown",
   "id": "0105bd95",
   "metadata": {},
   "source": [
    "#### Transforma os dados puxados do sql em um dataframe do pandas | Transforms the data fetched from SQL into a pandas DataFrame"
   ]
  },
  {
   "cell_type": "code",
   "execution_count": 51,
   "id": "525419b7",
   "metadata": {},
   "outputs": [
    {
     "name": "stderr",
     "output_type": "stream",
     "text": [
      "C:\\Users\\Denys\\AppData\\Local\\Temp\\ipykernel_20356\\600917216.py:1: FutureWarning: read_gbq is deprecated and will be removed in a future version. Please use pandas_gbq.read_gbq instead: https://pandas-gbq.readthedocs.io/en/latest/api.html#pandas_gbq.read_gbq\n",
      "  df = pd.read_gbq(credentials=credentials, query=sql_query)\n"
     ]
    }
   ],
   "source": [
    "df = pd.read_gbq(credentials=credentials, query=sql_query)"
   ]
  },
  {
   "cell_type": "markdown",
   "id": "52594cfb",
   "metadata": {},
   "source": [
    "#### Dataframe somente com as linhas em que as linguagens da lista aparecem | Dataframe only with the rows in which the languages from the list appear"
   ]
  },
  {
   "cell_type": "code",
   "execution_count": 47,
   "id": "b9f79eed",
   "metadata": {},
   "outputs": [],
   "source": [
    "# Filtrar apenas as tags que são linguagens\n",
    "df_filtrado = df[df['tag'].str.lower().isin(top_languages)]"
   ]
  },
  {
   "cell_type": "markdown",
   "id": "d422e7c1",
   "metadata": {},
   "source": [
    "#### Dataframe com a quantidade de linguagens por ano | Dataframe showing language count per year"
   ]
  },
  {
   "cell_type": "code",
   "execution_count": 49,
   "id": "bba5a4df",
   "metadata": {},
   "outputs": [],
   "source": [
    "qtd_linguagens_anual = df_filtrado.groupby('year')['tag'].nunique()"
   ]
  },
  {
   "cell_type": "code",
   "execution_count": null,
   "id": "b86f3ae7",
   "metadata": {},
   "outputs": [
    {
     "name": "stdout",
     "output_type": "stream",
     "text": [
      "year\n",
      "2008    38\n",
      "2009    40\n",
      "2010    42\n",
      "2011    43\n",
      "2012    46\n",
      "2013    46\n",
      "2014    46\n",
      "2015    47\n",
      "2016    47\n",
      "2017    47\n",
      "2018    47\n",
      "2019    47\n",
      "2020    47\n",
      "2021    47\n",
      "2022    48\n",
      "Name: tag, dtype: int64\n"
     ]
    }
   ],
   "source": []
  }
 ],
 "metadata": {
  "kernelspec": {
   "display_name": "Python (venv)",
   "language": "python",
   "name": "venv"
  },
  "language_info": {
   "codemirror_mode": {
    "name": "ipython",
    "version": 3
   },
   "file_extension": ".py",
   "mimetype": "text/x-python",
   "name": "python",
   "nbconvert_exporter": "python",
   "pygments_lexer": "ipython3",
   "version": "3.9.13"
  }
 },
 "nbformat": 4,
 "nbformat_minor": 5
}
