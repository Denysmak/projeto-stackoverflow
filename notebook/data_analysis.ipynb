{
 "cells": [
  {
   "cell_type": "markdown",
   "id": "6a76b81c",
   "metadata": {},
   "source": [
    "### 📚 Importação de Bibliotecas | Library Imports"
   ]
  },
  {
   "cell_type": "code",
   "execution_count": 38,
   "id": "c2347d06",
   "metadata": {},
   "outputs": [],
   "source": [
    "from google.cloud import bigquery\n",
    "from google.oauth2 import service_account\n",
    "import pandas as pd\n",
    "import matplotlib.pyplot as plt\n",
    "import seaborn as sns\n",
    "from dotenv import load_dotenv\n",
    "import os"
   ]
  },
  {
   "cell_type": "markdown",
   "id": "f11359ec",
   "metadata": {},
   "source": [
    "### Leitura do SQL | SQL reading"
   ]
  },
  {
   "cell_type": "code",
   "execution_count": 39,
   "id": "83b27192",
   "metadata": {},
   "outputs": [],
   "source": [
    "with open('../sql/data_extraction.sql', 'r') as f:\n",
    "    sql_query = f.read()"
   ]
  },
  {
   "cell_type": "markdown",
   "id": "74d8ad75",
   "metadata": {},
   "source": [
    "#### Usa variável de ambiente para deixar a aplicação mais segura | Use environment variables to make the application more secure"
   ]
  },
  {
   "cell_type": "code",
   "execution_count": 40,
   "id": "af6945d0",
   "metadata": {},
   "outputs": [],
   "source": [
    "\n",
    "load_dotenv()\n",
    "\n",
    "# Usa a variável de ambiente\n",
    "key_path = os.getenv(\"GOOGLE_APPLICATION_CREDENTIALS\")\n"
   ]
  },
  {
   "cell_type": "markdown",
   "id": "d203df52",
   "metadata": {},
   "source": [
    "#### Credencial para conectar com api do google big query | Google big query api credentials"
   ]
  },
  {
   "cell_type": "code",
   "execution_count": 41,
   "id": "fb3bfb64",
   "metadata": {},
   "outputs": [],
   "source": [
    "credentials = service_account.Credentials.from_service_account_file(filename=key_path, scopes=['https://www.googleapis.com/auth/cloud-platform'])"
   ]
  },
  {
   "cell_type": "markdown",
   "id": "46a36321",
   "metadata": {},
   "source": [
    "#### Lista com as principais linguagens de programação que existem (para comparação) | List of the main programming languages that exist (for comparison)"
   ]
  },
  {
   "cell_type": "code",
   "execution_count": 42,
   "id": "0a87b4ca",
   "metadata": {},
   "outputs": [],
   "source": [
    "top_languages = [\n",
    "    \"python\", \"java\", \"javascript\", \"c#\", \"c++\", \"c\", \"typescript\", \"php\", \"go\", \"rust\",\n",
    "    \"kotlin\", \"ruby\", \"swift\", \"scala\", \"dart\", \"objective-c\", \"perl\", \"r\", \"matlab\", \"lua\",\n",
    "    \"haskell\", \"elixir\", \"clojure\", \"f#\", \"assembly\", \"vb.net\", \"powershell\", \"bash\", \"groovy\", \"julia\",\n",
    "    \"scheme\", \"erlang\", \"fortran\", \"cobol\", \"prolog\", \"ada\", \"delphi\", \"scratch\", \"solidity\", \"vhdl\",\n",
    "    \"nim\", \"crystal\", \"abap\", \"sas\", \"verilog\", \"ocaml\", \"smalltalk\", \"pascal\", \"actionscript\", \"lisp\"\n",
    "]\n"
   ]
  },
  {
   "cell_type": "markdown",
   "id": "0105bd95",
   "metadata": {},
   "source": [
    "#### Transforma os dados puxados do sql em um dataframe do pandas | Transforms the data fetched from SQL into a pandas DataFrame"
   ]
  },
  {
   "cell_type": "code",
   "execution_count": 43,
   "id": "525419b7",
   "metadata": {},
   "outputs": [
    {
     "name": "stderr",
     "output_type": "stream",
     "text": [
      "C:\\Users\\Denys\\AppData\\Local\\Temp\\ipykernel_19088\\600917216.py:1: FutureWarning: read_gbq is deprecated and will be removed in a future version. Please use pandas_gbq.read_gbq instead: https://pandas-gbq.readthedocs.io/en/latest/api.html#pandas_gbq.read_gbq\n",
      "  df = pd.read_gbq(credentials=credentials, query=sql_query)\n"
     ]
    }
   ],
   "source": [
    "df = pd.read_gbq(credentials=credentials, query=sql_query)"
   ]
  },
  {
   "cell_type": "code",
   "execution_count": 44,
   "id": "e01bc618",
   "metadata": {},
   "outputs": [
    {
     "data": {
      "text/plain": [
       "0                                         sql-server-ce\n",
       "1                                version-control|survey\n",
       "2     c#|.net|dependency-injection|inversion-of-cont...\n",
       "3                              nhibernate|hibernate|hql\n",
       "4                        windows|shell|emacs|cygwin|cmd\n",
       "5                       logging|jakarta-ee|jboss|client\n",
       "6                                   windows|mobile|mapi\n",
       "7                                   cell|reporting|birt\n",
       "8                                           java|castor\n",
       "9                                 xml|serialization|mfc\n",
       "10          graphics|image|vector-graphics|image-editor\n",
       "11                                  user-controls|prism\n",
       "12                            delphi|odbc|ado|dbf|dbase\n",
       "13                                          asp.net-mvc\n",
       "14    haskell|lambda|functional-programming|lambda-c...\n",
       "15                       .net|ado.net-entity-data-model\n",
       "16                     windows|drag-and-drop|mouse|hook\n",
       "17                      msbuild|nant|com-interop|regasm\n",
       "18                                            c#|vb.net\n",
       "19                              language-agnostic|loops\n",
       "Name: tags, dtype: object"
      ]
     },
     "execution_count": 44,
     "metadata": {},
     "output_type": "execute_result"
    }
   ],
   "source": [
    "df['tags']"
   ]
  },
  {
   "cell_type": "code",
   "execution_count": 45,
   "id": "bba5a4df",
   "metadata": {},
   "outputs": [],
   "source": [
    "#"
   ]
  }
 ],
 "metadata": {
  "kernelspec": {
   "display_name": "Python (venv)",
   "language": "python",
   "name": "venv"
  },
  "language_info": {
   "codemirror_mode": {
    "name": "ipython",
    "version": 3
   },
   "file_extension": ".py",
   "mimetype": "text/x-python",
   "name": "python",
   "nbconvert_exporter": "python",
   "pygments_lexer": "ipython3",
   "version": "3.9.13"
  }
 },
 "nbformat": 4,
 "nbformat_minor": 5
}
